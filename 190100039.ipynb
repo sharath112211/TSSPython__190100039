{
 "cells": [
  {
   "cell_type": "code",
   "execution_count": 14,
   "id": "e67a9fe6",
   "metadata": {},
   "outputs": [],
   "source": [
    "File = open(\"HarryPotterAndTheSorcerersStone.txt\",encoding='UTF-8',) #This helps in opening the file which is to be read"
   ]
  },
  {
   "cell_type": "code",
   "execution_count": 15,
   "id": "c97f62b8",
   "metadata": {},
   "outputs": [],
   "source": [
    "DictionaryOfWords = {}         #Dictionary mapping every word to a list (of indices of the words' occurences)\n",
    "Novel = []                     #List of all words in the order, in which they appear!\n",
    "\n",
    "\n",
    "\n",
    "i = 0                   #Counter Variable to keep track of index of words\n",
    "\n",
    "for line in File.readlines():     #Iterate over all lines present in the text\n",
    "    \n",
    "    #Look at Python's Conciseness!\n",
    "    \n",
    "    line = line.replace(\".\",\"\").replace(\",\",\"\").replace('?','').replace('!','').replace('[','').replace(']','').replace('(','').replace(')','').replace('%','').replace('/','')\n",
    "      \n",
    "    #COMPLETE THE CODE FROM HERE:\n",
    "    \n",
    "    #This would split the line into many different words, and iterate over these words\n",
    "    \n",
    "    for Word in line.split(' '): \n",
    "                                                                             \n",
    "        if Word in DictionaryOfWords.keys():     #If the word is already present in the dictionary\n",
    "            DictionaryOfWords[Word].append(i)\n",
    "                                                                              \n",
    "        #Add the index into the pre-existing list for this word\n",
    "                                                                             \n",
    "        else:\n",
    "            if (Word!=''):\n",
    "                DictionaryOfWords[Word]=[i]\n",
    "        if Word!='':  \n",
    "            Novel.append(Word)                                                                     \n",
    "            i+=1"
   ]
  },
  {
   "cell_type": "code",
   "execution_count": 16,
   "id": "b034aaa3",
   "metadata": {},
   "outputs": [],
   "source": [
    "#COMPLETE THE CODE FROM HERE:\n",
    "\n",
    "def GetQuery():\n",
    "   \n",
    "    Word = input(\"Input the word of your interest\")       #Get Input from the user regarding what word s/he wants to query for\n",
    "\n",
    "    Number = int(input(\"Number of results \"))     #Get Input from the user regarding how many results the user wants to see\n",
    "\n",
    "    return (Word,Number)                 #Return as output a tuple of the word and the Number of results"
   ]
  },
  {
   "cell_type": "code",
   "execution_count": 17,
   "id": "501992cc",
   "metadata": {},
   "outputs": [],
   "source": [
    "def PrintContext(index):\n",
    "    \n",
    "    global Novel                          #Declares the list Novel as a Global Variable\n",
    "    \n",
    "    #COMPLETE THE CODE FROM HERE:\n",
    "    \n",
    "    for i in range(index-10,index+10 ) :           #Define the range so that the task above is fulfilled\n",
    "        \n",
    "        print(Novel[i], end = ' ')          #Print the word (using List Indexing) with a space after that\n",
    "        \n",
    "    print('\\n')"
   ]
  },
  {
   "cell_type": "code",
   "execution_count": 18,
   "id": "aeca9d76",
   "metadata": {},
   "outputs": [],
   "source": [
    "def PrintResult(Word, NumQuery):\n",
    "  \n",
    "    global DictionaryOfWords                #Allows us to use the Dictionary as a global variable\n",
    "    \n",
    "    #COMPLETE THE CODE FROM HERE:\n",
    "    \n",
    "    try :\n",
    "        L = DictionaryOfWords[Word] \n",
    "    except KeyError :\n",
    "        print(\"Sorry word not found\")\n",
    "        L=[]\n",
    "    \n",
    "    for i in range(0,min(len(L),NumQuery)):\n",
    "        #print(L)\n",
    "        PrintContext(L[i])             #Actually print the words surrounding the ith occurence of the given word"
   ]
  },
  {
   "cell_type": "code",
   "execution_count": 19,
   "id": "fe637ccf",
   "metadata": {
    "scrolled": true
   },
   "outputs": [
    {
     "name": "stdout",
     "output_type": "stream",
     "text": [
      "Press Y in order to Continue with the next query or N to end.Please press Enter after entering your choice!Y\n",
      "Input the word of your interestPotter\n",
      "Number of results 2\n",
      "bear it if anyone found out about the\n",
      " Potters Mrs Potter was Mrs Dursley’s sister but they hadn’t met\n",
      " for \n",
      "\n",
      "and stroked his\n",
      " mustache thinking no he was being stupid Potter wasn’t such\n",
      " an unusual name He was sure there \n",
      "\n",
      "Press Y in order to Continue with the next query or N to end.Please press Enter after entering your choice!a\n"
     ]
    }
   ],
   "source": [
    "while 1>0 :   \n",
    "    \n",
    "    Choice = input('Press Y in order to Continue with the next query or N to end.Please press Enter after entering your choice!')\n",
    "    \n",
    "    #COMPLETE THE CODE FROM HERE:\n",
    "    \n",
    "    if Choice== \"Y\" :                     # If the user wants to query \n",
    "        \n",
    "        T=GetQuery()                      #Use some of the past defined function to do so   \n",
    "        PrintResult(T[0],T[1])\n",
    "    else:\n",
    "        \n",
    "        break                                 #Else end the loop"
   ]
  },
  {
   "cell_type": "code",
   "execution_count": null,
   "id": "3a92767a",
   "metadata": {},
   "outputs": [],
   "source": []
  },
  {
   "cell_type": "code",
   "execution_count": null,
   "id": "00ce8004",
   "metadata": {},
   "outputs": [],
   "source": []
  }
 ],
 "metadata": {
  "kernelspec": {
   "display_name": "Python 3",
   "language": "python",
   "name": "python3"
  },
  "language_info": {
   "codemirror_mode": {
    "name": "ipython",
    "version": 3
   },
   "file_extension": ".py",
   "mimetype": "text/x-python",
   "name": "python",
   "nbconvert_exporter": "python",
   "pygments_lexer": "ipython3",
   "version": "3.8.8"
  }
 },
 "nbformat": 4,
 "nbformat_minor": 5
}
